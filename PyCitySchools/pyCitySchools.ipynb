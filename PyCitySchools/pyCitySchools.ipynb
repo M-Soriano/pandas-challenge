{
 "cells": [
  {
   "cell_type": "markdown",
   "metadata": {},
   "source": [
    "# PyCity Schools Analysis"
   ]
  },
  {
   "cell_type": "code",
   "execution_count": 1,
   "metadata": {},
   "outputs": [
    {
     "data": {
      "text/html": [
       "<div>\n",
       "<style scoped>\n",
       "    .dataframe tbody tr th:only-of-type {\n",
       "        vertical-align: middle;\n",
       "    }\n",
       "\n",
       "    .dataframe tbody tr th {\n",
       "        vertical-align: top;\n",
       "    }\n",
       "\n",
       "    .dataframe thead th {\n",
       "        text-align: right;\n",
       "    }\n",
       "</style>\n",
       "<table border=\"1\" class=\"dataframe\">\n",
       "  <thead>\n",
       "    <tr style=\"text-align: right;\">\n",
       "      <th></th>\n",
       "      <th>Student ID</th>\n",
       "      <th>student_name</th>\n",
       "      <th>gender</th>\n",
       "      <th>grade</th>\n",
       "      <th>school_name</th>\n",
       "      <th>reading_score</th>\n",
       "      <th>math_score</th>\n",
       "      <th>School ID</th>\n",
       "      <th>type</th>\n",
       "      <th>size</th>\n",
       "      <th>budget</th>\n",
       "    </tr>\n",
       "  </thead>\n",
       "  <tbody>\n",
       "    <tr>\n",
       "      <th>0</th>\n",
       "      <td>0</td>\n",
       "      <td>Paul Bradley</td>\n",
       "      <td>M</td>\n",
       "      <td>9th</td>\n",
       "      <td>Huang High School</td>\n",
       "      <td>66</td>\n",
       "      <td>79</td>\n",
       "      <td>0</td>\n",
       "      <td>District</td>\n",
       "      <td>2917</td>\n",
       "      <td>1910635</td>\n",
       "    </tr>\n",
       "    <tr>\n",
       "      <th>1</th>\n",
       "      <td>1</td>\n",
       "      <td>Victor Smith</td>\n",
       "      <td>M</td>\n",
       "      <td>12th</td>\n",
       "      <td>Huang High School</td>\n",
       "      <td>94</td>\n",
       "      <td>61</td>\n",
       "      <td>0</td>\n",
       "      <td>District</td>\n",
       "      <td>2917</td>\n",
       "      <td>1910635</td>\n",
       "    </tr>\n",
       "    <tr>\n",
       "      <th>2</th>\n",
       "      <td>2</td>\n",
       "      <td>Kevin Rodriguez</td>\n",
       "      <td>M</td>\n",
       "      <td>12th</td>\n",
       "      <td>Huang High School</td>\n",
       "      <td>90</td>\n",
       "      <td>60</td>\n",
       "      <td>0</td>\n",
       "      <td>District</td>\n",
       "      <td>2917</td>\n",
       "      <td>1910635</td>\n",
       "    </tr>\n",
       "    <tr>\n",
       "      <th>3</th>\n",
       "      <td>3</td>\n",
       "      <td>Dr. Richard Scott</td>\n",
       "      <td>M</td>\n",
       "      <td>12th</td>\n",
       "      <td>Huang High School</td>\n",
       "      <td>67</td>\n",
       "      <td>58</td>\n",
       "      <td>0</td>\n",
       "      <td>District</td>\n",
       "      <td>2917</td>\n",
       "      <td>1910635</td>\n",
       "    </tr>\n",
       "    <tr>\n",
       "      <th>4</th>\n",
       "      <td>4</td>\n",
       "      <td>Bonnie Ray</td>\n",
       "      <td>F</td>\n",
       "      <td>9th</td>\n",
       "      <td>Huang High School</td>\n",
       "      <td>97</td>\n",
       "      <td>84</td>\n",
       "      <td>0</td>\n",
       "      <td>District</td>\n",
       "      <td>2917</td>\n",
       "      <td>1910635</td>\n",
       "    </tr>\n",
       "  </tbody>\n",
       "</table>\n",
       "</div>"
      ],
      "text/plain": [
       "   Student ID       student_name gender grade        school_name  \\\n",
       "0           0       Paul Bradley      M   9th  Huang High School   \n",
       "1           1       Victor Smith      M  12th  Huang High School   \n",
       "2           2    Kevin Rodriguez      M  12th  Huang High School   \n",
       "3           3  Dr. Richard Scott      M  12th  Huang High School   \n",
       "4           4         Bonnie Ray      F   9th  Huang High School   \n",
       "\n",
       "   reading_score  math_score  School ID      type  size   budget  \n",
       "0             66          79          0  District  2917  1910635  \n",
       "1             94          61          0  District  2917  1910635  \n",
       "2             90          60          0  District  2917  1910635  \n",
       "3             67          58          0  District  2917  1910635  \n",
       "4             97          84          0  District  2917  1910635  "
      ]
     },
     "execution_count": 1,
     "metadata": {},
     "output_type": "execute_result"
    }
   ],
   "source": [
    "#dependecies\n",
    "import pandas as pd\n",
    "from pathlib import Path\n",
    "\n",
    "#loading filess\n",
    "# File to Load (Remember to Change These)\n",
    "school_data = Path(\"Resources/schools_complete.csv\") #generic starter code, some modifications\n",
    "student_data = Path(\"Resources/students_complete.csv\")#generic starter code, some modifications\n",
    "\n",
    "# Read School and Student Data File and store into Pandas DataFrames\n",
    "sl_data = pd.read_csv(school_data)#generic starter code, some modifications\n",
    "st_data = pd.read_csv(student_data)#generic starter code, some modifications\n",
    "\n",
    "# Combine the data into a single dataset.\n",
    "combine_data = pd.merge(st_data, sl_data, how=\"left\", on=\"school_name\")#generic starter code, some modifications\n",
    "combine_data.head()"
   ]
  },
  {
   "cell_type": "markdown",
   "metadata": {},
   "source": [
    "## District Summary"
   ]
  },
  {
   "cell_type": "code",
   "execution_count": 2,
   "metadata": {},
   "outputs": [
    {
     "data": {
      "text/plain": [
       "15"
      ]
     },
     "execution_count": 2,
     "metadata": {},
     "output_type": "execute_result"
    }
   ],
   "source": [
    "# Calculate the total number of unique schools\n",
    "# Using using built-in function unique by calling shool name column inside len function we can get the count of schools\n",
    "school_count = len(combine_data[\"school_name\"].unique())\n",
    "school_count"
   ]
  },
  {
   "cell_type": "code",
   "execution_count": 3,
   "metadata": {},
   "outputs": [
    {
     "data": {
      "text/plain": [
       "39170"
      ]
     },
     "execution_count": 3,
     "metadata": {},
     "output_type": "execute_result"
    }
   ],
   "source": [
    "# Calculate the total number of students\n",
    "# Using using built-in function count on student ID(not student name, in case two student have the same name) to get number of student\n",
    "student_count = combine_data[\"Student ID\"].count()\n",
    "student_count"
   ]
  },
  {
   "cell_type": "code",
   "execution_count": 4,
   "metadata": {},
   "outputs": [
    {
     "data": {
      "text/plain": [
       "24649428"
      ]
     },
     "execution_count": 4,
     "metadata": {},
     "output_type": "execute_result"
    }
   ],
   "source": [
    "# Calculate the total budget\n",
    "## Using using built-in function sum on column budget for total budget\n",
    "total_budget =sl_data[\"budget\"].sum()\n",
    "total_budget\n"
   ]
  },
  {
   "cell_type": "code",
   "execution_count": 5,
   "metadata": {},
   "outputs": [
    {
     "data": {
      "text/plain": [
       "78.98537145774827"
      ]
     },
     "execution_count": 5,
     "metadata": {},
     "output_type": "execute_result"
    }
   ],
   "source": [
    "# Calculate the average (mean) math score\n",
    "# Using using built-in function mean on column math score for average math score\n",
    "average_math_score = combine_data[\"math_score\"].mean()\n",
    "average_math_score"
   ]
  },
  {
   "cell_type": "code",
   "execution_count": 6,
   "metadata": {},
   "outputs": [
    {
     "data": {
      "text/plain": [
       "81.87784018381414"
      ]
     },
     "execution_count": 6,
     "metadata": {},
     "output_type": "execute_result"
    }
   ],
   "source": [
    "\n",
    "# Calculate the average (mean) reading score\n",
    "# Using using built-in function mean on column reading score for average reading score\n",
    "average_reading_score =  combine_data[\"reading_score\"].mean()\n",
    "average_reading_score"
   ]
  },
  {
   "cell_type": "code",
   "execution_count": 7,
   "metadata": {},
   "outputs": [
    {
     "data": {
      "text/plain": [
       "74.9808526933878"
      ]
     },
     "execution_count": 7,
     "metadata": {},
     "output_type": "execute_result"
    }
   ],
   "source": [
    "# Use the following to calculate the percentage of students who passed math (math scores greather than or equal to 70)\n",
    "passing_math_count = combine_data[(combine_data[\"math_score\"] >= 70)].count()[\"student_name\"]#starter code\n",
    "passing_math_percentage = passing_math_count / float(student_count) * 100#starter code \n",
    "passing_math_percentage"
   ]
  },
  {
   "cell_type": "code",
   "execution_count": 8,
   "metadata": {},
   "outputs": [
    {
     "data": {
      "text/plain": [
       "85.80546336482001"
      ]
     },
     "execution_count": 8,
     "metadata": {},
     "output_type": "execute_result"
    }
   ],
   "source": [
    "# Calculate the percentage of students who passed reading (hint: look at how the math percentage was calculated)\n",
    "passing_reading_count = combine_data[(combine_data[\"reading_score\"] >=70)].count()[\"student_name\"] # starter code, some modifications\n",
    "passing_reading_percentage = passing_reading_count/ float(student_count) * 100 #starter code, some modifications\n",
    "passing_reading_percentage"
   ]
  },
  {
   "cell_type": "code",
   "execution_count": 9,
   "metadata": {},
   "outputs": [
    {
     "data": {
      "text/plain": [
       "65.17232575950983"
      ]
     },
     "execution_count": 9,
     "metadata": {},
     "output_type": "execute_result"
    }
   ],
   "source": [
    "# Use the following to calculate the percentage of students that passed math and reading\n",
    "passing_math_reading_count = combine_data[# starter code\n",
    "    (combine_data[\"math_score\"] >= 70) & (combine_data[\"reading_score\"] >= 70)# starter code\n",
    "].count()[\"student_name\"]# starter code\n",
    "overall_passing_rate = passing_math_reading_count /  float(student_count) * 100# starter code\n",
    "overall_passing_rate# starter code"
   ]
  },
  {
   "cell_type": "code",
   "execution_count": 10,
   "metadata": {},
   "outputs": [
    {
     "data": {
      "text/html": [
       "<div>\n",
       "<style scoped>\n",
       "    .dataframe tbody tr th:only-of-type {\n",
       "        vertical-align: middle;\n",
       "    }\n",
       "\n",
       "    .dataframe tbody tr th {\n",
       "        vertical-align: top;\n",
       "    }\n",
       "\n",
       "    .dataframe thead th {\n",
       "        text-align: right;\n",
       "    }\n",
       "</style>\n",
       "<table border=\"1\" class=\"dataframe\">\n",
       "  <thead>\n",
       "    <tr style=\"text-align: right;\">\n",
       "      <th></th>\n",
       "      <th>Total number of schools</th>\n",
       "      <th>Total Students</th>\n",
       "      <th>Total Budget</th>\n",
       "      <th>Average math score</th>\n",
       "      <th>Average reading score</th>\n",
       "      <th>% Passing math (the percentage of students who passed math)</th>\n",
       "      <th>% Passing reading (the percentage of students who passed reading)</th>\n",
       "      <th>% Overall passing (the percentage of students who passed math AND reading)</th>\n",
       "    </tr>\n",
       "  </thead>\n",
       "  <tbody>\n",
       "    <tr>\n",
       "      <th>0</th>\n",
       "      <td>15</td>\n",
       "      <td>39,170</td>\n",
       "      <td>$24,649,428.00</td>\n",
       "      <td>78.99%</td>\n",
       "      <td>81.88%</td>\n",
       "      <td>74.98%</td>\n",
       "      <td>85.81%</td>\n",
       "      <td>65.17%</td>\n",
       "    </tr>\n",
       "  </tbody>\n",
       "</table>\n",
       "</div>"
      ],
      "text/plain": [
       "   Total number of schools Total Students    Total Budget Average math score  \\\n",
       "0                       15         39,170  $24,649,428.00             78.99%   \n",
       "\n",
       "  Average reading score  \\\n",
       "0                81.88%   \n",
       "\n",
       "  % Passing math (the percentage of students who passed math)  \\\n",
       "0                                             74.98%            \n",
       "\n",
       "  % Passing reading (the percentage of students who passed reading)  \\\n",
       "0                                             85.81%                  \n",
       "\n",
       "  % Overall passing (the percentage of students who passed math AND reading)  \n",
       "0                                             65.17%                          "
      ]
     },
     "execution_count": 10,
     "metadata": {},
     "output_type": "execute_result"
    }
   ],
   "source": [
    "# Create a high-level snapshot of the district's key metrics in a DataFrame\n",
    "district_summary = pd.DataFrame({\n",
    "    \"Total number of schools\": [school_count],\n",
    "    \"Total Students\": [student_count],\n",
    "    \"Total Budget\": [total_budget],\n",
    "    \"Average math score\": [average_math_score],\n",
    "    \"Average reading score\": [average_reading_score],\n",
    "    \"% Passing math (the percentage of students who passed math)\": [passing_math_percentage],\n",
    "    \"% Passing reading (the percentage of students who passed reading)\": [passing_reading_percentage],\n",
    "    \"% Overall passing (the percentage of students who passed math AND reading)\": [overall_passing_rate]})   \n",
    "\n",
    "# Formatting \n",
    "district_summary[\"Total Students\"] = district_summary[\"Total Students\"].map(\"{:,}\".format)# starter code\n",
    "district_summary[\"Total Budget\"] = district_summary[\"Total Budget\"].map(\"${:,.2f}\".format)# starter code\n",
    "#formatting Average math score, Average reading score, % Passing math (the percentage of students who passed math), \n",
    "# % Passing reading (the percentage of students who passed reading), \"% Overall passing (the percentage of students who passed math AND reading),\n",
    "# \"% Overall passing (the percentage of students who passed math AND reading)\n",
    "district_summary[\"Average math score\"] = district_summary[\"Average math score\"].map(\"{:,.2f}%\".format)\n",
    "district_summary[\"Average reading score\"] = district_summary[\"Average reading score\"].map(\"{:,.2f}%\".format)\n",
    "district_summary[\"% Passing math (the percentage of students who passed math)\"] = district_summary[\"% Passing math (the percentage of students who passed math)\"].map(\"{:,.2f}%\".format)\n",
    "district_summary[\"% Passing reading (the percentage of students who passed reading)\"] = district_summary[\"% Passing reading (the percentage of students who passed reading)\"].map(\"{:,.2f}%\".format)\n",
    "district_summary[\"% Overall passing (the percentage of students who passed math AND reading)\"] = district_summary[\"% Overall passing (the percentage of students who passed math AND reading)\"].map(\"{:,.2f}%\".format)\n",
    "\n",
    "# Display the DataFrame\n",
    "district_summary\n"
   ]
  },
  {
   "cell_type": "code",
   "execution_count": 32,
   "metadata": {},
   "outputs": [
    {
     "data": {
      "text/plain": [
       "(array(['Huang High School', 'Figueroa High School', 'Shelton High School',\n",
       "        'Hernandez High School', 'Griffin High School',\n",
       "        'Wilson High School', 'Cabrera High School', 'Bailey High School',\n",
       "        'Holden High School', 'Pena High School', 'Wright High School',\n",
       "        'Rodriguez High School', 'Johnson High School', 'Ford High School',\n",
       "        'Thomas High School'], dtype=object),\n",
       " school_name\n",
       " Huang High School        District\n",
       " Figueroa High School     District\n",
       " Shelton High School       Charter\n",
       " Hernandez High School    District\n",
       " Griffin High School       Charter\n",
       " Wilson High School        Charter\n",
       " Cabrera High School       Charter\n",
       " Bailey High School       District\n",
       " Holden High School        Charter\n",
       " Pena High School          Charter\n",
       " Wright High School        Charter\n",
       " Rodriguez High School    District\n",
       " Johnson High School      District\n",
       " Ford High School         District\n",
       " Thomas High School        Charter\n",
       " Name: type, dtype: object)"
      ]
     },
     "execution_count": 32,
     "metadata": {},
     "output_type": "execute_result"
    }
   ],
   "source": [
    "# Use the code provided to select the type per school from school_data\n",
    "school_name = combine_data[\"school_name\"].unique()\n",
    "\n",
    "school_types = sl_data.set_index([\"school_name\"])[\"type\"]# starter code\n",
    "school_name,school_types# starter code\n"
   ]
  },
  {
   "cell_type": "code",
   "execution_count": 12,
   "metadata": {},
   "outputs": [
    {
     "data": {
      "text/plain": [
       "school_name\n",
       "Bailey High School       4976\n",
       "Johnson High School      4761\n",
       "Hernandez High School    4635\n",
       "Rodriguez High School    3999\n",
       "Figueroa High School     2949\n",
       "Huang High School        2917\n",
       "Ford High School         2739\n",
       "Wilson High School       2283\n",
       "Cabrera High School      1858\n",
       "Wright High School       1800\n",
       "Shelton High School      1761\n",
       "Thomas High School       1635\n",
       "Griffin High School      1468\n",
       "Pena High School          962\n",
       "Holden High School        427\n",
       "Name: count, dtype: int64"
      ]
     },
     "execution_count": 12,
     "metadata": {},
     "output_type": "execute_result"
    }
   ],
   "source": [
    "# Calculate the total student count per school from school_data\n",
    "per_school_counts = combine_data[\"school_name\"].value_counts()\n",
    "per_school_counts"
   ]
  },
  {
   "cell_type": "code",
   "execution_count": 13,
   "metadata": {},
   "outputs": [
    {
     "data": {
      "text/plain": [
       "(school_name\n",
       " Bailey High School       3124928\n",
       " Cabrera High School      1081356\n",
       " Figueroa High School     1884411\n",
       " Ford High School         1763916\n",
       " Griffin High School       917500\n",
       " Hernandez High School    3022020\n",
       " Holden High School        248087\n",
       " Huang High School        1910635\n",
       " Johnson High School      3094650\n",
       " Pena High School          585858\n",
       " Rodriguez High School    2547363\n",
       " Shelton High School      1056600\n",
       " Thomas High School       1043130\n",
       " Wilson High School       1319574\n",
       " Wright High School       1049400\n",
       " Name: budget, dtype: int64,\n",
       " school_name\n",
       " Bailey High School       628.0\n",
       " Cabrera High School      582.0\n",
       " Figueroa High School     639.0\n",
       " Ford High School         644.0\n",
       " Griffin High School      625.0\n",
       " Hernandez High School    652.0\n",
       " Holden High School       581.0\n",
       " Huang High School        655.0\n",
       " Johnson High School      650.0\n",
       " Pena High School         609.0\n",
       " Rodriguez High School    637.0\n",
       " Shelton High School      600.0\n",
       " Thomas High School       638.0\n",
       " Wilson High School       578.0\n",
       " Wright High School       583.0\n",
       " dtype: float64)"
      ]
     },
     "execution_count": 13,
     "metadata": {},
     "output_type": "execute_result"
    }
   ],
   "source": [
    "# Calculate the total school budget and per capita spending per school from school_data\n",
    "\n",
    "#getting the school by group and budget sum of each school using school_data(sl_data)\n",
    "per_school_budget = sl_data.groupby(\"school_name\")[\"budget\"].sum()\n",
    "\n",
    "per_school_capita = per_school_budget/per_school_counts\n",
    "per_school_budget,per_school_capita"
   ]
  },
  {
   "cell_type": "code",
   "execution_count": 14,
   "metadata": {},
   "outputs": [
    {
     "data": {
      "text/plain": [
       "(school_name\n",
       " Bailey High School       81.033963\n",
       " Cabrera High School      83.975780\n",
       " Figueroa High School     81.158020\n",
       " Ford High School         80.746258\n",
       " Griffin High School      83.816757\n",
       " Hernandez High School    80.934412\n",
       " Holden High School       83.814988\n",
       " Huang High School        81.182722\n",
       " Johnson High School      80.966394\n",
       " Pena High School         84.044699\n",
       " Rodriguez High School    80.744686\n",
       " Shelton High School      83.725724\n",
       " Thomas High School       83.848930\n",
       " Wilson High School       83.989488\n",
       " Wright High School       83.955000\n",
       " Name: reading_score, dtype: float64,\n",
       " school_name\n",
       " Bailey High School       77.048432\n",
       " Cabrera High School      83.061895\n",
       " Figueroa High School     76.711767\n",
       " Ford High School         77.102592\n",
       " Griffin High School      83.351499\n",
       " Hernandez High School    77.289752\n",
       " Holden High School       83.803279\n",
       " Huang High School        76.629414\n",
       " Johnson High School      77.072464\n",
       " Pena High School         83.839917\n",
       " Rodriguez High School    76.842711\n",
       " Shelton High School      83.359455\n",
       " Thomas High School       83.418349\n",
       " Wilson High School       83.274201\n",
       " Wright High School       83.682222\n",
       " Name: math_score, dtype: float64)"
      ]
     },
     "execution_count": 14,
     "metadata": {},
     "output_type": "execute_result"
    }
   ],
   "source": [
    "# Calculate the average test scores per school from school_data_complete\n",
    "#Getting average by grouping schools and using mean on variable\n",
    "per_school_math =combine_data.groupby(\"school_name\")[\"math_score\"].mean()\n",
    "per_school_reading =combine_data.groupby(\"school_name\")[\"reading_score\"].mean()\n",
    "per_school_reading,per_school_math"
   ]
  },
  {
   "cell_type": "code",
   "execution_count": 15,
   "metadata": {},
   "outputs": [
    {
     "data": {
      "text/plain": [
       "(29370,\n",
       " school_name\n",
       " Bailey High School       3318\n",
       " Cabrera High School      1749\n",
       " Figueroa High School     1946\n",
       " Ford High School         1871\n",
       " Griffin High School      1371\n",
       " Hernandez High School    3094\n",
       " Holden High School        395\n",
       " Huang High School        1916\n",
       " Johnson High School      3145\n",
       " Pena High School          910\n",
       " Rodriguez High School    2654\n",
       " Shelton High School      1653\n",
       " Thomas High School       1525\n",
       " Wilson High School       2143\n",
       " Wright High School       1680\n",
       " Name: math_score, dtype: int64)"
      ]
     },
     "execution_count": 15,
     "metadata": {},
     "output_type": "execute_result"
    }
   ],
   "source": [
    "# Calculate the number of students per school with math scores of 70 or higher from school_data_complete\n",
    "#We run a boolean statement to get only the passing scores then group by school and get that count of passing scores\n",
    "students_passing_math = combine_data[combine_data[\"math_score\"] > 69][\"math_score\"].count()\n",
    "school_students_passing_math =combine_data[combine_data[\"math_score\"] >= 70].groupby(\"school_name\")[\"math_score\"].count()\n",
    "students_passing_math,school_students_passing_math\n",
    "\n"
   ]
  },
  {
   "cell_type": "code",
   "execution_count": 16,
   "metadata": {},
   "outputs": [
    {
     "data": {
      "text/plain": [
       "(33610,\n",
       " school_name\n",
       " Bailey High School       4077\n",
       " Cabrera High School      1803\n",
       " Figueroa High School     2381\n",
       " Ford High School         2172\n",
       " Griffin High School      1426\n",
       " Hernandez High School    3748\n",
       " Holden High School        411\n",
       " Huang High School        2372\n",
       " Johnson High School      3867\n",
       " Pena High School          923\n",
       " Rodriguez High School    3208\n",
       " Shelton High School      1688\n",
       " Thomas High School       1591\n",
       " Wilson High School       2204\n",
       " Wright High School       1739\n",
       " Name: reading_score, dtype: int64)"
      ]
     },
     "execution_count": 16,
     "metadata": {},
     "output_type": "execute_result"
    }
   ],
   "source": [
    "# Calculate the number of students per school with reading scores of 70 or higher from school_data_complete\n",
    "#We run a boolean statement to get only the passing scores then group by school and get that count of passing scores\n",
    "students_passing_reading = combine_data[combine_data[\"reading_score\"] > 69][\"reading_score\"].count()\n",
    "school_students_passing_reading = combine_data[combine_data[\"reading_score\"] >= 70].groupby(\"school_name\")[\"reading_score\"].count()\n",
    "students_passing_reading,school_students_passing_reading"
   ]
  },
  {
   "cell_type": "code",
   "execution_count": 17,
   "metadata": {},
   "outputs": [],
   "source": [
    "# Use the provided code to calculate the number of students per school that passed both math and reading with scores of 70 or higher\n",
    "students_passing_math_and_reading = combine_data[(combine_data[\"reading_score\"] >= 70) & (combine_data[\"math_score\"] >= 70)]# starter code\n",
    "school_students_passing_math_and_reading = students_passing_math_and_reading.groupby([\"school_name\"]).size()# starter code\n"
   ]
  },
  {
   "cell_type": "code",
   "execution_count": 18,
   "metadata": {},
   "outputs": [],
   "source": [
    "# Use the provided code to calculate the passing rates# starter code# starter code\n",
    "per_school_passing_math = school_students_passing_math / per_school_counts * 100# starter code\n",
    "per_school_passing_reading = school_students_passing_reading / per_school_counts * 100# starter code\n",
    "overall_passing_rate = school_students_passing_math_and_reading / per_school_counts * 100# starter code"
   ]
  },
  {
   "cell_type": "code",
   "execution_count": 36,
   "metadata": {},
   "outputs": [
    {
     "data": {
      "text/html": [
       "<div>\n",
       "<style scoped>\n",
       "    .dataframe tbody tr th:only-of-type {\n",
       "        vertical-align: middle;\n",
       "    }\n",
       "\n",
       "    .dataframe tbody tr th {\n",
       "        vertical-align: top;\n",
       "    }\n",
       "\n",
       "    .dataframe thead th {\n",
       "        text-align: right;\n",
       "    }\n",
       "</style>\n",
       "<table border=\"1\" class=\"dataframe\">\n",
       "  <thead>\n",
       "    <tr style=\"text-align: right;\">\n",
       "      <th></th>\n",
       "      <th>School type</th>\n",
       "      <th>Total students</th>\n",
       "      <th>Total School Budget</th>\n",
       "      <th>Per Student Budget</th>\n",
       "      <th>Average math score</th>\n",
       "      <th>Average reading score</th>\n",
       "      <th>% Passing math</th>\n",
       "      <th>% Passing reading</th>\n",
       "      <th>% Overall Passing</th>\n",
       "    </tr>\n",
       "    <tr>\n",
       "      <th>school_name</th>\n",
       "      <th></th>\n",
       "      <th></th>\n",
       "      <th></th>\n",
       "      <th></th>\n",
       "      <th></th>\n",
       "      <th></th>\n",
       "      <th></th>\n",
       "      <th></th>\n",
       "      <th></th>\n",
       "    </tr>\n",
       "  </thead>\n",
       "  <tbody>\n",
       "    <tr>\n",
       "      <th>Bailey High School</th>\n",
       "      <td>District</td>\n",
       "      <td>4976</td>\n",
       "      <td>$3,124,928.00</td>\n",
       "      <td>$628.00</td>\n",
       "      <td>77.05</td>\n",
       "      <td>81.03</td>\n",
       "      <td>%66.68</td>\n",
       "      <td>%81.93</td>\n",
       "      <td>%54.64</td>\n",
       "    </tr>\n",
       "    <tr>\n",
       "      <th>Cabrera High School</th>\n",
       "      <td>Charter</td>\n",
       "      <td>1858</td>\n",
       "      <td>$1,081,356.00</td>\n",
       "      <td>$582.00</td>\n",
       "      <td>83.06</td>\n",
       "      <td>83.98</td>\n",
       "      <td>%94.13</td>\n",
       "      <td>%97.04</td>\n",
       "      <td>%91.33</td>\n",
       "    </tr>\n",
       "    <tr>\n",
       "      <th>Figueroa High School</th>\n",
       "      <td>District</td>\n",
       "      <td>2949</td>\n",
       "      <td>$1,884,411.00</td>\n",
       "      <td>$639.00</td>\n",
       "      <td>76.71</td>\n",
       "      <td>81.16</td>\n",
       "      <td>%65.99</td>\n",
       "      <td>%80.74</td>\n",
       "      <td>%53.20</td>\n",
       "    </tr>\n",
       "    <tr>\n",
       "      <th>Ford High School</th>\n",
       "      <td>District</td>\n",
       "      <td>2739</td>\n",
       "      <td>$1,763,916.00</td>\n",
       "      <td>$644.00</td>\n",
       "      <td>77.10</td>\n",
       "      <td>80.75</td>\n",
       "      <td>%68.31</td>\n",
       "      <td>%79.30</td>\n",
       "      <td>%54.29</td>\n",
       "    </tr>\n",
       "    <tr>\n",
       "      <th>Griffin High School</th>\n",
       "      <td>Charter</td>\n",
       "      <td>1468</td>\n",
       "      <td>$917,500.00</td>\n",
       "      <td>$625.00</td>\n",
       "      <td>83.35</td>\n",
       "      <td>83.82</td>\n",
       "      <td>%93.39</td>\n",
       "      <td>%97.14</td>\n",
       "      <td>%90.60</td>\n",
       "    </tr>\n",
       "    <tr>\n",
       "      <th>Hernandez High School</th>\n",
       "      <td>District</td>\n",
       "      <td>4635</td>\n",
       "      <td>$3,022,020.00</td>\n",
       "      <td>$652.00</td>\n",
       "      <td>77.29</td>\n",
       "      <td>80.93</td>\n",
       "      <td>%66.75</td>\n",
       "      <td>%80.86</td>\n",
       "      <td>%53.53</td>\n",
       "    </tr>\n",
       "    <tr>\n",
       "      <th>Holden High School</th>\n",
       "      <td>Charter</td>\n",
       "      <td>427</td>\n",
       "      <td>$248,087.00</td>\n",
       "      <td>$581.00</td>\n",
       "      <td>83.80</td>\n",
       "      <td>83.81</td>\n",
       "      <td>%92.51</td>\n",
       "      <td>%96.25</td>\n",
       "      <td>%89.23</td>\n",
       "    </tr>\n",
       "    <tr>\n",
       "      <th>Huang High School</th>\n",
       "      <td>District</td>\n",
       "      <td>2917</td>\n",
       "      <td>$1,910,635.00</td>\n",
       "      <td>$655.00</td>\n",
       "      <td>76.63</td>\n",
       "      <td>81.18</td>\n",
       "      <td>%65.68</td>\n",
       "      <td>%81.32</td>\n",
       "      <td>%53.51</td>\n",
       "    </tr>\n",
       "    <tr>\n",
       "      <th>Johnson High School</th>\n",
       "      <td>District</td>\n",
       "      <td>4761</td>\n",
       "      <td>$3,094,650.00</td>\n",
       "      <td>$650.00</td>\n",
       "      <td>77.07</td>\n",
       "      <td>80.97</td>\n",
       "      <td>%66.06</td>\n",
       "      <td>%81.22</td>\n",
       "      <td>%53.54</td>\n",
       "    </tr>\n",
       "    <tr>\n",
       "      <th>Pena High School</th>\n",
       "      <td>Charter</td>\n",
       "      <td>962</td>\n",
       "      <td>$585,858.00</td>\n",
       "      <td>$609.00</td>\n",
       "      <td>83.84</td>\n",
       "      <td>84.04</td>\n",
       "      <td>%94.59</td>\n",
       "      <td>%95.95</td>\n",
       "      <td>%90.54</td>\n",
       "    </tr>\n",
       "    <tr>\n",
       "      <th>Rodriguez High School</th>\n",
       "      <td>District</td>\n",
       "      <td>3999</td>\n",
       "      <td>$2,547,363.00</td>\n",
       "      <td>$637.00</td>\n",
       "      <td>76.84</td>\n",
       "      <td>80.74</td>\n",
       "      <td>%66.37</td>\n",
       "      <td>%80.22</td>\n",
       "      <td>%52.99</td>\n",
       "    </tr>\n",
       "    <tr>\n",
       "      <th>Shelton High School</th>\n",
       "      <td>Charter</td>\n",
       "      <td>1761</td>\n",
       "      <td>$1,056,600.00</td>\n",
       "      <td>$600.00</td>\n",
       "      <td>83.36</td>\n",
       "      <td>83.73</td>\n",
       "      <td>%93.87</td>\n",
       "      <td>%95.85</td>\n",
       "      <td>%89.89</td>\n",
       "    </tr>\n",
       "    <tr>\n",
       "      <th>Thomas High School</th>\n",
       "      <td>Charter</td>\n",
       "      <td>1635</td>\n",
       "      <td>$1,043,130.00</td>\n",
       "      <td>$638.00</td>\n",
       "      <td>83.42</td>\n",
       "      <td>83.85</td>\n",
       "      <td>%93.27</td>\n",
       "      <td>%97.31</td>\n",
       "      <td>%90.95</td>\n",
       "    </tr>\n",
       "    <tr>\n",
       "      <th>Wilson High School</th>\n",
       "      <td>Charter</td>\n",
       "      <td>2283</td>\n",
       "      <td>$1,319,574.00</td>\n",
       "      <td>$578.00</td>\n",
       "      <td>83.27</td>\n",
       "      <td>83.99</td>\n",
       "      <td>%93.87</td>\n",
       "      <td>%96.54</td>\n",
       "      <td>%90.58</td>\n",
       "    </tr>\n",
       "    <tr>\n",
       "      <th>Wright High School</th>\n",
       "      <td>Charter</td>\n",
       "      <td>1800</td>\n",
       "      <td>$1,049,400.00</td>\n",
       "      <td>$583.00</td>\n",
       "      <td>83.68</td>\n",
       "      <td>83.95</td>\n",
       "      <td>%93.33</td>\n",
       "      <td>%96.61</td>\n",
       "      <td>%90.33</td>\n",
       "    </tr>\n",
       "  </tbody>\n",
       "</table>\n",
       "</div>"
      ],
      "text/plain": [
       "                      School type  Total students Total School Budget  \\\n",
       "school_name                                                             \n",
       "Bailey High School       District            4976       $3,124,928.00   \n",
       "Cabrera High School       Charter            1858       $1,081,356.00   \n",
       "Figueroa High School     District            2949       $1,884,411.00   \n",
       "Ford High School         District            2739       $1,763,916.00   \n",
       "Griffin High School       Charter            1468         $917,500.00   \n",
       "Hernandez High School    District            4635       $3,022,020.00   \n",
       "Holden High School        Charter             427         $248,087.00   \n",
       "Huang High School        District            2917       $1,910,635.00   \n",
       "Johnson High School      District            4761       $3,094,650.00   \n",
       "Pena High School          Charter             962         $585,858.00   \n",
       "Rodriguez High School    District            3999       $2,547,363.00   \n",
       "Shelton High School       Charter            1761       $1,056,600.00   \n",
       "Thomas High School        Charter            1635       $1,043,130.00   \n",
       "Wilson High School        Charter            2283       $1,319,574.00   \n",
       "Wright High School        Charter            1800       $1,049,400.00   \n",
       "\n",
       "                      Per Student Budget Average math score  \\\n",
       "school_name                                                   \n",
       "Bailey High School               $628.00              77.05   \n",
       "Cabrera High School              $582.00              83.06   \n",
       "Figueroa High School             $639.00              76.71   \n",
       "Ford High School                 $644.00              77.10   \n",
       "Griffin High School              $625.00              83.35   \n",
       "Hernandez High School            $652.00              77.29   \n",
       "Holden High School               $581.00              83.80   \n",
       "Huang High School                $655.00              76.63   \n",
       "Johnson High School              $650.00              77.07   \n",
       "Pena High School                 $609.00              83.84   \n",
       "Rodriguez High School            $637.00              76.84   \n",
       "Shelton High School              $600.00              83.36   \n",
       "Thomas High School               $638.00              83.42   \n",
       "Wilson High School               $578.00              83.27   \n",
       "Wright High School               $583.00              83.68   \n",
       "\n",
       "                      Average reading score % Passing math % Passing reading  \\\n",
       "school_name                                                                    \n",
       "Bailey High School                    81.03         %66.68            %81.93   \n",
       "Cabrera High School                   83.98         %94.13            %97.04   \n",
       "Figueroa High School                  81.16         %65.99            %80.74   \n",
       "Ford High School                      80.75         %68.31            %79.30   \n",
       "Griffin High School                   83.82         %93.39            %97.14   \n",
       "Hernandez High School                 80.93         %66.75            %80.86   \n",
       "Holden High School                    83.81         %92.51            %96.25   \n",
       "Huang High School                     81.18         %65.68            %81.32   \n",
       "Johnson High School                   80.97         %66.06            %81.22   \n",
       "Pena High School                      84.04         %94.59            %95.95   \n",
       "Rodriguez High School                 80.74         %66.37            %80.22   \n",
       "Shelton High School                   83.73         %93.87            %95.85   \n",
       "Thomas High School                    83.85         %93.27            %97.31   \n",
       "Wilson High School                    83.99         %93.87            %96.54   \n",
       "Wright High School                    83.95         %93.33            %96.61   \n",
       "\n",
       "                      % Overall Passing  \n",
       "school_name                              \n",
       "Bailey High School               %54.64  \n",
       "Cabrera High School              %91.33  \n",
       "Figueroa High School             %53.20  \n",
       "Ford High School                 %54.29  \n",
       "Griffin High School              %90.60  \n",
       "Hernandez High School            %53.53  \n",
       "Holden High School               %89.23  \n",
       "Huang High School                %53.51  \n",
       "Johnson High School              %53.54  \n",
       "Pena High School                 %90.54  \n",
       "Rodriguez High School            %52.99  \n",
       "Shelton High School              %89.89  \n",
       "Thomas High School               %90.95  \n",
       "Wilson High School               %90.58  \n",
       "Wright High School               %90.33  "
      ]
     },
     "execution_count": 36,
     "metadata": {},
     "output_type": "execute_result"
    }
   ],
   "source": [
    "# Create a DataFrame called `per_school_summary` with columns for the calculations above.\n",
    "per_school_summary =pd.DataFrame({\n",
    "    #\"School name\":school_name, not need bacause of index\n",
    "    \"School type\": school_types,\n",
    "    \"Total students\":per_school_counts,\n",
    "    \"Total School Budget\":per_school_budget,\n",
    "    \"Per Student Budget\":per_school_capita,\n",
    "    \"Average math score\":per_school_math,\n",
    "    \"Average reading score\":per_school_reading,\n",
    "    \"% Passing math\":per_school_passing_math,\n",
    "    \"% Passing reading\":per_school_passing_reading,\n",
    "    \"% Overall Passing\":overall_passing_rate})\n",
    "\n",
    "# Formatting\n",
    "per_school_summary[\"Total School Budget\"] = per_school_summary[\"Total School Budget\"].map(\"${:,.2f}\".format)# starter code\n",
    "per_school_summary[\"Per Student Budget\"] = per_school_summary[\"Per Student Budget\"].map(\"${:,.2f}\".format)# starter code\n",
    "per_school_summary[\"Average math score\"] = per_school_summary[\"Average math score\"].map(\"{:,.2f}\".format)# starter code\n",
    "per_school_summary[\"Average reading score\"] = per_school_summary[\"Average reading score\"].map(\"{:,.2f}\".format)# starter code\n",
    "per_school_summary[\"% Passing math\"] = per_school_summary[\"% Passing math\"].map(\"%{:,.2f}\".format)# starter code\n",
    "per_school_summary[\"% Passing reading\"] = per_school_summary[\"% Passing reading\"].map(\"%{:,.2f}\".format)# starter code\n",
    "per_school_summary[\"% Overall Passing\"] = per_school_summary[\"% Overall Passing\"].map(\"%{:,.2f}\".format)# starter code\n",
    "\n",
    "\n",
    "\n",
    "\n",
    "# Display the DataFrame\n",
    "per_school_summary# starter code\n"
   ]
  }
 ],
 "metadata": {
  "kernelspec": {
   "display_name": "base",
   "language": "python",
   "name": "python3"
  },
  "language_info": {
   "codemirror_mode": {
    "name": "ipython",
    "version": 3
   },
   "file_extension": ".py",
   "mimetype": "text/x-python",
   "name": "python",
   "nbconvert_exporter": "python",
   "pygments_lexer": "ipython3",
   "version": "3.12.3"
  }
 },
 "nbformat": 4,
 "nbformat_minor": 2
}
